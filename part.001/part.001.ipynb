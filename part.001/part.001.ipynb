{
 "cells": [
  {
   "cell_type": "markdown",
   "id": "66f9a291",
   "metadata": {},
   "source": [
    "# Часть 1. Введение"
   ]
  },
  {
   "cell_type": "markdown",
   "id": "40076ab3",
   "metadata": {},
   "source": [
    "## Давайте познакомимся"
   ]
  },
  {
   "cell_type": "markdown",
   "id": "4210abce",
   "metadata": {},
   "source": [
    "[Обо мне](./res/about-me.png)\n",
    "\n",
    "<img src=\"./res/about-me.png\" alt=\"Обо мне\" width=\"700\">"
   ]
  },
  {
   "cell_type": "markdown",
   "id": "a9b4cd03",
   "metadata": {},
   "source": [
    "## Об учёбе"
   ]
  },
  {
   "cell_type": "markdown",
   "id": "80c4e989",
   "metadata": {},
   "source": [
    "### Учёба и коммуникация"
   ]
  },
  {
   "cell_type": "markdown",
   "id": "34e7731a",
   "metadata": {},
   "source": [
    "- Есть \"лекции\", семинары(практика) и др формы взаимодействия;\n",
    "  - на лекциях узнаем новое и пробуем применять;\n",
    "  - на практиках закрепляем и погружаемся в более сложное;\n",
    "- у вас есть доступ к платформе - изучаем, решаем, повторяем;\n",
    "- есть документация — к ней привыкайте __в первую очередь__;\n",
    "- октябрь-ноябрь промежуточный контроль\n",
    "- декабрь-январь ▪️🦢;\n",
    "- общение, командная работа, помощь друг другу – ради этого мы тут;"
   ]
  },
  {
   "cell_type": "markdown",
   "id": "dfe2e4b2",
   "metadata": {},
   "source": [
    "### Правила упрощающие жизнь"
   ]
  },
  {
   "cell_type": "markdown",
   "id": "5356a75b",
   "metadata": {},
   "source": [
    "10 000 часов\n",
    "<details>\n",
    "  <summary></summary>\n",
    "    <pre>\n",
    "    3 часам практики в день, или 20 часов в неделю на протяжении 10 лет\n",
    "    </pre>\n",
    "</details>\n",
    "\n",
    "закон Парето\n",
    "<details>\n",
    "  <summary></summary>\n",
    "  <pre>\n",
    "  20 % усилий дают 80 % результата, а остальные 80 % усилий — лишь 20 % результата\n",
    "  </pre>  \n",
    "</details>\n",
    "\n",
    "закон Мерфи;\n",
    "<details>\n",
    "  <summary></summary>\n",
    "  <pre>\n",
    "    Если что-нибудь может пойти не так, оно пойдёт не так\n",
    "  </pre>\n",
    "</details>\n",
    "\n",
    "законы Па́ркинсона\n",
    "<details>\n",
    "  <summary></summary>\n",
    "  <pre>\n",
    "    Работа заполняет время, отпущенное на неё\n",
    "  </pre>\n",
    "</details>\n",
    "\n",
    "регулярность\n",
    "<details>\n",
    "  <summary></summary>\n",
    "  <pre>\n",
    "    – Каждый день лучше чем один раз в месяц, забрасывать не нужно.\n",
    "  </pre>\n",
    "  <pre>\n",
    "    – XX часов каждый день.\n",
    "  </pre>\n",
    "  <pre>\n",
    "    – Практика важнее всего\n",
    "  </pre>\n",
    "\n",
    "\n",
    "</details>"
   ]
  },
  {
   "cell_type": "markdown",
   "id": "3f759a49",
   "metadata": {},
   "source": [
    "### Вопросики"
   ]
  },
  {
   "cell_type": "markdown",
   "id": "25b25987",
   "metadata": {},
   "source": [
    "- Кто такое программист по вашему мнению?\n",
    "- Что чаще делает программист? \n",
    "- Как происходит интеграция нового программиста на проект? [➡️](https://github.com/iksergey/communiko)\n",
    "- Как написать первую программу? - [🥲](https://t.me/iksergeyru/225)\n",
    "- слышали вы что-то о корпоративной культуре?\n",
    "- [Подкаст про новичков](https://boosty.to/ksergeyru/posts/7f1aa734-eb84-4996-95c6-e45bf0f2f506?share=post_link)\n",
    "<details>\n",
    "  <summary>Посмотреть</summary>\n",
    "    <pre>\n",
    "    Читайте доку\n",
    "    Обменивайтесь идеями и проектами\n",
    "    Используйте много источников, но верьте только документации\n",
    "    Не суетитесь\n",
    "    Если что-то не работает - это нормально\n",
    "    Если что-то не работает неделю - это не нормально\n",
    "    Первый кризис программиста - \"Почему это не работает\"?\n",
    "    </pre> \n",
    "</details>"
   ]
  },
  {
   "cell_type": "markdown",
   "id": "6151a7a9",
   "metadata": {},
   "source": [
    "# Часть 2. Окружение"
   ]
  },
  {
   "cell_type": "markdown",
   "id": "3aa88552",
   "metadata": {},
   "source": [
    "## VS Code"
   ]
  },
  {
   "cell_type": "markdown",
   "id": "b4909787",
   "metadata": {},
   "source": [
    "- [офф сайт для скачивания](https://code.visualstudio.com)\n",
    "- [гайд по установке](https://t.me/iksergeyru/103)\n",
    "- [специальные символы в вашем коде](https://t.me/iksergeyru/37)\n",
    "- [плагин Live Server](https://marketplace.visualstudio.com/items?itemName=ritwickdey.LiveServer)\n",
    "\n",
    "- _разные хитрости работы с редактором_"
   ]
  },
  {
   "cell_type": "markdown",
   "id": "3584d9ae",
   "metadata": {},
   "source": [
    "## GIT"
   ]
  },
  {
   "cell_type": "markdown",
   "id": "2d5cf3d7",
   "metadata": {},
   "source": [
    "- [как начать в git и github.com](https://t.me/iksergeyru/102)\n",
    "- [github.com](https://github.com/)\n",
    "- выбирайте ник, который не стыдно показать [@iksergey](https://github.com/iksergey)\n",
    "- наполняйте \"портфолио\" с первых дней."
   ]
  },
  {
   "cell_type": "markdown",
   "id": "29ec778f",
   "metadata": {},
   "source": [
    "__погнали...__"
   ]
  },
  {
   "cell_type": "markdown",
   "id": "38a510ff",
   "metadata": {},
   "source": [
    "# Часть 3. Hello world"
   ]
  },
  {
   "cell_type": "markdown",
   "id": "a105594e",
   "metadata": {},
   "source": [
    "## Для чего его пишут?"
   ]
  },
  {
   "cell_type": "markdown",
   "id": "f9ad8c1c",
   "metadata": {},
   "source": [
    "### Hello world"
   ]
  },
  {
   "cell_type": "markdown",
   "id": "81ddd51a",
   "metadata": {},
   "source": [
    "[lesson_001/ex01/index.html](./ex01/index.html)"
   ]
  },
  {
   "cell_type": "markdown",
   "id": "c39c48e1",
   "metadata": {},
   "source": [
    "```\n",
    "<!DOCTYPE html>\n",
    "<html lang=\"en\">\n",
    "\n",
    "<head>\n",
    "  <meta charset=\"UTF-8\">\n",
    "  <meta name=\"viewport\" content=\"width=device-width>\n",
    "  <title>Кто прочёл + в чат</title>\n",
    "</head>\n",
    "\n",
    "<body>\n",
    "</body>\n",
    "\n",
    "</html>\n",
    "```"
   ]
  },
  {
   "cell_type": "markdown",
   "id": "d103dfeb",
   "metadata": {},
   "source": [
    "### HTML: теги и атрибуты"
   ]
  },
  {
   "cell_type": "markdown",
   "id": "20f94704",
   "metadata": {},
   "source": [
    "- HTML (HyperText Markup Language) - язык гипертекстовой разметки\n",
    "- браузер разметку превращает в понятный для человека формат\n",
    "- `.html` - расширение HTML-файлов, реже можно встретить `.htm`\n",
    "- разметка состоит из набора тегов\n",
    "  - теги бывают одиночные: `<hr>`, `<img>` и др.\n",
    "    - `<br>`\n",
    "  - теги бывают парные `<h1>`, `<u>`, `<span>` и др.\n",
    "    - `<p>` ... `</p>`\n",
    "  - у тегов есть атрибуты (обязательные и необязательные)\n",
    "    - `<h1>` ... `</h1>`\n",
    "    - `<h1 align=\"left\">` ... `</h1>`\n",
    "    - `<h1 align=\"center\">` ... `</h1>`\n",
    "    - `<img src=\"...\">`\n",
    "    - `<img src=\"...\" alt=\"text\">`\n",
    "- набор тегов создает [DOM-дерево](https://ru.wikipedia.org/wiki/Document_Object_Model)\n",
    "- браузер подгружает и отображает файлы сверху вниз\n",
    "\n",
    "- Любая страница обязательно имеет `<html>`, `<head>`, `<body>`\n",
    "```\n",
    "<html>\n",
    "  <head>\n",
    "  </head>\n",
    "\n",
    "  <body>\n",
    "  </body>\n",
    "\n",
    "</html>\n",
    "```\n",
    "\n",
    "[lesson_001/ex02_tags/index.html](./ex02_tags/index.html)"
   ]
  },
  {
   "cell_type": "markdown",
   "id": "e69ebaff",
   "metadata": {},
   "source": [
    "# Часть 4. Основные типы HTML тегов"
   ]
  },
  {
   "cell_type": "markdown",
   "id": "7aca634d",
   "metadata": {},
   "source": [
    "- блочные - отвечают за каркас страницы, занимают всю ширину, начинаются с новой строки\n",
    "  - `<div>`, `<p>`, `<h1>`-`<h6>` и др.\n",
    "- строчные - помогают в процессе стилизации страницы или добавления функциональных частей, занимают только то пространство, которое им необходимо и находятся на одной строке, пока пространство не закончится\n",
    "  - `<span>`, `<a>`, `</strong>`\n",
    "- можно вкладывать одни в другие\n",
    "```\n",
    "<div>\n",
    "  <div>\n",
    "    <h1>Заголовок статьи</h1>\n",
    "  </div>\n",
    "  <div>\n",
    "    <p>Первый параграф <b>статьи</b></p>\n",
    "    <p>Второй параграф <b>статьи</b></p>\n",
    "    <p>Третий параграф <b>статьи</b></p>\n",
    "  </div>\n",
    "</div>\n",
    "```\n",
    "-  так формируется _иерархическое дерево_ \n",
    "- _дочерний_ и _родительские_ элементы\n",
    "- форматирование - __строго обязательно__\n",
    "<details>\n",
    "  <summary>построим?</summary>\n",
    "<pre>  \n",
    "\n",
    "```\n",
    "      <html>\n",
    "        <head>\n",
    "        </head>\n",
    "        <body>\n",
    "          <div>\n",
    "            <div>\n",
    "              <h1>Заголовок статьи</h1>\n",
    "            </div>\n",
    "            <div>\n",
    "              <p>Первый параграф <b>статьи</b></p>\n",
    "              <p>Второй параграф <b>статьи</b></p>\n",
    "              <p>Третий параграф <b>статьи</b></p>\n",
    "            </div>\n",
    "          </div>\n",
    "        </body>\n",
    "      </html>\n",
    "```\n",
    "\n",
    "</pre>\n",
    "</details>\n",
    "\n",
    "Демонстрация - [article](./ex03_inline_block/article.html) | [article_color](./ex03_inline_block/article_color.html)"
   ]
  },
  {
   "cell_type": "markdown",
   "id": "de7de457",
   "metadata": {},
   "source": [
    "# Часть 5. Это база..."
   ]
  },
  {
   "cell_type": "markdown",
   "id": "b8d83941",
   "metadata": {},
   "source": [
    "## Некоторые HTML-теги"
   ]
  },
  {
   "cell_type": "markdown",
   "id": "690371ed",
   "metadata": {},
   "source": [
    "- заголовки 1-6 уровней _heading_\n",
    "  - `<h1>` ... `</h1>`\n",
    "  - `<h2>` ... `</h2>`\n",
    "  - `<h3>` ... `</h3>`\n",
    "  - `<h4>` ... `</h4>`\n",
    "  - `<h5>` ... `</h5>`\n",
    "  - `<h6>` ... `</h6>`\n",
    "- новый параграф (новый абзац) _paragraph_\n",
    "  - `<p>` ... `</p>`\n",
    "- переход на новую строку \n",
    "  - `<br>`\n",
    "- горизонтальный разделитель\n",
    "  - `<hr>`\n",
    "- Работа с текстом\n",
    "  - `b`, `i`, `u`, `s`, `sup`, `sub`\n",
    "  - `strong`, `em`\n",
    "- маркированный список\n",
    "```\n",
    "<ul>\n",
    "  <li>...</li>\n",
    "  <li>...</li>\n",
    "  ...\n",
    "  <li>...</li>\n",
    "</ul>\n",
    "```\n",
    "- нумерованный список\n",
    "```\n",
    "<ol>\n",
    "  <li>...</li>\n",
    "  <li>...</li>\n",
    "  ...\n",
    "  <li>...</li>\n",
    "</ol>\n",
    "```\n",
    "- список описаний\n",
    "```\n",
    "<dl>\n",
    "  <dt>...</dt>\n",
    "  <dd>...</dd>\n",
    "  ...\n",
    "  <dt>...</dt>\n",
    "  <dd>...</dd>\n",
    "</ol>\n",
    "```\n",
    "- Добавление изображений\n",
    "  - `<img src=\"url\" alt=\"description\">`\n",
    "- Добавление ссылок\n",
    "  - `<a href=\"url\">Text</a>`\n",
    "\n",
    "__Важно__: относительная и абсолютная адресация\n"
   ]
  },
  {
   "cell_type": "markdown",
   "id": "fbf3b1ac",
   "metadata": {},
   "source": [
    "фейковые данные\n",
    "- [пост](https://t.me/iksergeyru/249)\n",
    "- [public-apis](https://github.com/public-apis/public-apis)\n",
    "- [jsonplaceholder](https://jsonplaceholder.typicode.com)\n",
    "  - [todos](https://jsonplaceholder.typicode.com/todos/)\n",
    "- [lipsum.com](https://ru.lipsum.com)\n",
    "- lorem"
   ]
  },
  {
   "cell_type": "markdown",
   "id": "9b920781",
   "metadata": {},
   "source": [
    "## Семантический HTML"
   ]
  },
  {
   "cell_type": "markdown",
   "id": "ce546289",
   "metadata": {},
   "source": [
    "`<article>`, `<aside>`, `<details>`, `<figcaption>`, `<figure>`, `<footer>`, `<header>`, `<main>`, `<mark>`, `<nav>`, `<section>`, `<summary>`, `<time>`\n",
    "\n",
    "Нужен людям с ограниченными возможностями, разного рода ботам.\n"
   ]
  },
  {
   "cell_type": "markdown",
   "id": "fd78213d",
   "metadata": {},
   "source": [
    "# Часть 6. Практика 1"
   ]
  },
  {
   "cell_type": "markdown",
   "id": "28b381b9",
   "metadata": {},
   "source": [
    "## Как начать"
   ]
  },
  {
   "cell_type": "markdown",
   "id": "277f4ec8",
   "metadata": {},
   "source": [
    "1. Создать папку с именем `oh-my-site`\n",
    "2. Открыть её в VS Code\n",
    "3. Внутри папки создать файл `index.html`\n",
    "4. Внутри файла `index.html` создать каркас страницы используя `!`\n",
    "5. Внутри тега `body` добавить `Hello world`\n",
    "6. Открыть страницу в браузере и убедиться, что всё работает корректно\n",
    "7. Установить расширение [Live Server](https://marketplace.visualstudio.com/items?itemName=ritwickdey.LiveServer) и протестировать работу с ним\n",
    "```\n",
    "<!DOCTYPE html>\n",
    "<html lang=\"en\">\n",
    "<head>\n",
    "  <meta charset=\"UTF-8\">\n",
    "  <meta name=\"viewport\" content=\"width=device-width, initial-scale=1.0\">\n",
    "  <title>Document</title>\n",
    "</head>\n",
    "<body>\n",
    "</body>\n",
    "</html>\n",
    "```"
   ]
  },
  {
   "cell_type": "markdown",
   "id": "fa1b8a72",
   "metadata": {},
   "source": [
    "# Часть 7. Практика 2"
   ]
  },
  {
   "cell_type": "markdown",
   "id": "c1874e61",
   "metadata": {},
   "source": [
    "Сверстать что-то похожее на сайт-резюме [demo](./res/image.png)"
   ]
  },
  {
   "cell_type": "markdown",
   "id": "5dd93e83",
   "metadata": {},
   "source": [
    "<img src=\"res/image.png\" width=\"600\">"
   ]
  },
  {
   "cell_type": "markdown",
   "id": "f0fbb006",
   "metadata": {},
   "source": [
    "# Часть 8. Практика 3"
   ]
  },
  {
   "cell_type": "markdown",
   "id": "f2b245fc",
   "metadata": {},
   "source": [
    "1. Перейти на сайт [github.com](https://github.com)\n",
    "2. Узнать свой username - [settings](https://github.com/settings/admin) допустим, это `iksergey`\n",
    "3. Перейти в раздел `Repositories`\n",
    "4. Создать новый репозиторий [`iksergey.github.io`](https://iksergey.github.io)\n",
    "5. Нажать кнопку `uploading an existing file.`\n",
    "6. В появившемся окне выполнить загрузку файла `index.html`. _Важно: у файла должно быть имя_ `index.html`.\n",
    "7. В форме `Commit changes` добавить сопроводительный комментарий, например:\n",
    "  - Add files via upload: index.html сайта-резюме\n",
    "  - Add an optional extended description: Добавлен основной файл сайта-резюме\n",
    "8. Подтвердить действие нажатием кнопки `Commit changes`\n"
   ]
  },
  {
   "cell_type": "markdown",
   "id": "ccca50e8",
   "metadata": {},
   "source": [
    "# Часть 9. Основы CSS"
   ]
  },
  {
   "cell_type": "markdown",
   "id": "0081db3c",
   "metadata": {},
   "source": [
    "## Что это - рисунок"
   ]
  },
  {
   "cell_type": "markdown",
   "id": "12a23a67",
   "metadata": {},
   "source": [
    "Из чего состоит CSS\n",
    "- стилизация любого элемента на странице состоит из трёх частей:\n",
    "  1. Селектор - правило, по которому выбирается элемент\n",
    "  2. Свойство - название свойства, которое мы хотим изменить\n",
    "  3. Значение - значение свойства\n",
    "- свойство и значение отделяются символом `:`\n",
    "\n",
    "```\n",
    "body {\n",
    "  font-family: Arial, sans-serif;\n",
    "  margin: 25px;\n",
    "  font-size: 10px;\n",
    "}\n",
    "```\n",
    "<details>\n",
    "  <summary>Типографика</summary>\n",
    "    <pre>\n",
    "\n",
    "      С засечками (serif), они часто используются для печати и в книгах.\n",
    "\n",
    "      Без засечек (sans-serif), они часто используются для веб-сайтов и на экране, так как легче читать на маленьких размерах шрифта.\n",
    "      \n",
    "    </pre>\n",
    "</details>\n"
   ]
  },
  {
   "cell_type": "markdown",
   "id": "81f62f1d",
   "metadata": {},
   "source": [
    "## С чего начать"
   ]
  },
  {
   "cell_type": "markdown",
   "id": "dd8467f0",
   "metadata": {},
   "source": [
    "1. Атрибут `style`\n",
    "2. Тег  `style`\n",
    "3. Отдельный файл\n",
    "  - Создать файл style.css\n",
    "  - в файле `*.html` прописать `<link rel=\"stylesheet\" href=\"style.css\">` в разделе `head` "
   ]
  },
  {
   "cell_type": "markdown",
   "id": "7d7f2b84",
   "metadata": {},
   "source": [
    "### Базовые селекторы\n",
    "- по тегу - 3\n",
    "  - `p`, `h1`, `div`, `section` и т.д.\n",
    "- по классу - 2\n",
    "  - `.text`, `.container`, `.header` `color-red` и т.д.\n",
    "- по идентификатору - 1\n",
    "  - `#main`, `#nav`, `#hero` и т.д."
   ]
  },
  {
   "cell_type": "markdown",
   "id": "a3cc9c60",
   "metadata": {},
   "source": [
    "_почитать про каскадность_ и не пугаться при виде такого: `class=\"col-xs-6 col-sm-6 col-md-4 col-lg-3 mb-3\"`"
   ]
  },
  {
   "cell_type": "markdown",
   "id": "9d4ed809",
   "metadata": {},
   "source": [
    "# Часть 10. Практика 4"
   ]
  },
  {
   "cell_type": "markdown",
   "id": "7774acdd",
   "metadata": {},
   "source": [
    "- применить стилизацию для сайта\n",
    "- обновить репозиторий гитхаба\n",
    "\n",
    "Было\n",
    "\n",
    "<img src=\"res/image.png\" width=\"600\">\n",
    "\n",
    "Стало\n",
    "\n",
    "<img src=\"res/image-style.png\" width=\"600\">"
   ]
  },
  {
   "cell_type": "markdown",
   "id": "13aba5ad",
   "metadata": {},
   "source": [
    "# Часть 11. Итоги"
   ]
  },
  {
   "cell_type": "markdown",
   "id": "e71e7df1",
   "metadata": {},
   "source": [
    "\n",
    "<details>\n",
    "  <summary>1. Какие из компонентов, участвующих в процессе доставки веб-страницы пользователю, должны «знать» HTML, то есть понимать и обрабатывать документы на языке HTML?</summary>\n",
    "  \n",
    "<pre>1. Веб-браузер\n",
    "2. Операционная система\n",
    "3. Интернет-провайдер</pre>\n",
    "<details>\n",
    "  <summary></summary>\n",
    "      <pre>1. Веб-браузер</pre>\n",
    "</details>\n",
    "</details>\n",
    "\n",
    "<hr>\n",
    "\n",
    "<details>\n",
    "  <summary>2. В чем главное отличие блочных и строчных элементов?</summary>\n",
    "<pre>1. В блочные элементы нельзя вкладывать другие блочные элементы\n",
    "2. Строчные элементы занимают все свободное пространство\n",
    "3. К строчным элементам не применяются свойства width и height</pre>\n",
    "<details>\n",
    "  <summary></summary>\n",
    "      <pre>3. К строчным элементам не применяются свойства width и height</pre>\n",
    "</details>\n",
    "</details>\n",
    "\n",
    "<hr>\n",
    "\n",
    "<details>\n",
    "  <summary>3. На какую «глубину» можно вкладывать элементы друг в друга?</summary>\n",
    "  \n",
    "<pre>1. Элементы нельзя вкладывать друг в друга\n",
    "2. Ограничений нет, но необходимо сохранять здравый смысл\n",
    "3. До десяти раз можно вкладывать элементы друг в друга. Дальше браузер их не обрабатывает</pre>\n",
    "<details>\n",
    "  <summary></summary>\n",
    "    <pre>2. Ограничений нет, но необходимо сохранять здравый смысл</pre>\n",
    "</details>\n",
    "</details>\n",
    "\n",
    "<hr>\n",
    "\n",
    "<details>\n",
    "  <summary>4. Зачем нужна семантическая верстка?</summary>\n",
    "<pre>1. Потому что было сказано, что это хорошо\n",
    "2. Для корректной обработки страницы роботами\n",
    "3. Для вывода элементов в браузере</pre>\n",
    "<details>\n",
    "  <summary></summary>\n",
    "    <pre>2. Для корректной обработки страницы роботами</pre>\n",
    "</details>\n",
    "</details>\n",
    "\n",
    "<hr>\n",
    "\n",
    "<details>\n",
    "  <summary>5. Какой элемент идет первым в HTML документе?</summary>\n",
    "  \n",
    "<pre>1. html\n",
    "2. title\n",
    "3. !DOCTYPE</pre>\n",
    "<details>\n",
    "  <summary></summary>\n",
    "    <pre>3. !DOCTYPE</pre>\n",
    "</details>\n",
    "</details>\n",
    "\n",
    "<hr>\n",
    "\n",
    "<details>\n",
    "  <summary>6. Что позволяет сделать селектор?</summary>\n",
    "  \n",
    "<pre>1. Установить цвет текста\n",
    "2. Выбрать HTML-элемент\n",
    "3. Добавить тег на страницу</pre>\n",
    "<details>\n",
    "  <summary></summary>\n",
    "    <pre>2. Выбрать HTML-элемент</pre>\n",
    "</details>\n",
    "</details>\n",
    "\n",
    "<hr>\n",
    "\n",
    "<details>\n",
    "  <summary>7. Какой селектор в CSS имеет самый высокий приоритет?</summary>\n",
    "  \n",
    "<pre>1. Селектор по идентификатору\n",
    "2. Селектор по классу\n",
    "3. Селектор по тегу</pre>\n",
    "<details>\n",
    "  <summary></summary>\n",
    "    <pre>1. Селектор по идентификатору</pre>\n",
    "</details>\n",
    "</details>\n",
    "\n",
    "<hr>\n",
    "\n",
    "<details>\n",
    "  <summary>8. Зачем нужен Emmet?</summary>\n",
    "  \n",
    "<pre>1. Для ускорения создания HTML разметки и написания CSS кода \n",
    "2. Чтобы было\n",
    "3. Для быстрого написания JavaScript кода</pre>\n",
    "<details>\n",
    "  <summary></summary>\n",
    "    <pre>1. Для ускорения создания HTML разметки и написания CSS кода </pre>\n",
    "</details>\n",
    "</details>\n",
    "\n",
    "\n",
    " \n",
    "\n",
    "\n"
   ]
  }
 ],
 "metadata": {
  "kernelspec": {
   "display_name": "JavaScript (Node.js)",
   "language": "javascript",
   "name": "javascript"
  },
  "language_info": {
   "file_extension": ".js",
   "mimetype": "application/javascript",
   "name": "javascript",
   "version": "20.5.1"
  }
 },
 "nbformat": 4,
 "nbformat_minor": 5
}
